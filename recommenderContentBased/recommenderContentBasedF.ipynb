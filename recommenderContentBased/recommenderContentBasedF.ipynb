{
 "cells": [
  {
   "cell_type": "code",
   "execution_count": 14,
   "id": "73d397a4",
   "metadata": {},
   "outputs": [],
   "source": [
    "import pandas as pd\n",
    "from sklearn.feature_extraction.text import TfidfVectorizer\n",
    "from sklearn.metrics.pairwise import cosine_similarity\n",
    "\n"
   ]
  },
  {
   "cell_type": "code",
   "execution_count": 15,
   "id": "1d877873",
   "metadata": {},
   "outputs": [],
   "source": [
    "df = pd.read_csv('data_Processed.csv')"
   ]
  },
  {
   "cell_type": "code",
   "execution_count": 16,
   "id": "8f07511d",
   "metadata": {},
   "outputs": [],
   "source": [
    "# TF-IDF\n",
    "vectorizer = TfidfVectorizer()\n",
    "tfidf_matrix = vectorizer.fit_transform(df['tags_joined'])"
   ]
  },
  {
   "cell_type": "code",
   "execution_count": 17,
   "id": "6824a20a",
   "metadata": {},
   "outputs": [],
   "source": [
    "similarity_matrix = cosine_similarity(tfidf_matrix)"
   ]
  },
  {
   "cell_type": "code",
   "execution_count": 18,
   "id": "9882292e",
   "metadata": {},
   "outputs": [],
   "source": [
    "def rekomendasi_tempat(nama_tempat, df, similarity_matrix, top_n=5):\n",
    "    if nama_tempat not in df['title'].values:\n",
    "        return f\"Tempat '{nama_tempat}' tidak ditemukan dalam data.\"\n",
    "    \n",
    "    # Ambil index dari tempat\n",
    "    idx = df[df['title'] == nama_tempat].index[0]\n",
    "    \n",
    "    # Ambil skor similarity-nya\n",
    "    sim_scores = list(enumerate(similarity_matrix[idx]))\n",
    "    \n",
    "    # Urutkan berdasarkan skor tertinggi (kecuali dirinya sendiri)\n",
    "    sim_scores = sorted(sim_scores, key=lambda x: x[1], reverse=True)\n",
    "    sim_scores = sim_scores[1:top_n+2]  # ambil top-n\n",
    "\n",
    "    # Ambil hasil rekomendasi\n",
    "    rekomendasi = []\n",
    "    for i, score in sim_scores:\n",
    "        rekomendasi.append({\n",
    "            'title': df.iloc[i]['title'],\n",
    "            'kategori': df.iloc[i]['kategori'],\n",
    "            'similarity': round(score, 3)\n",
    "        })\n",
    "    \n",
    "    return rekomendasi"
   ]
  },
  {
   "cell_type": "code",
   "execution_count": 19,
   "id": "2bb4064e",
   "metadata": {},
   "outputs": [
    {
     "name": "stdout",
     "output_type": "stream",
     "text": [
      "Wisata Alam Fishing-Camp Siarubung (alam) - Similarity: 0.286\n",
      "Bukit Senyum (alam) - Similarity: 0.274\n",
      "Desa Wisata Martoba (alam) - Similarity: 0.229\n",
      "Tao Silalahi (alam) - Similarity: 0.227\n",
      "Bukit Cinta Silahisabungan (alam) - Similarity: 0.223\n",
      "Bukit Beta Tuk-tuk (alam) - Similarity: 0.222\n"
     ]
    }
   ],
   "source": [
    "rekomendasi = rekomendasi_tempat(\"Perkemahan Paropo\", df, similarity_matrix)\n",
    "for r in rekomendasi:\n",
    "    print(f\"{r['title']} ({r['kategori']}) - Similarity: {r['similarity']}\")\n"
   ]
  }
 ],
 "metadata": {
  "kernelspec": {
   "display_name": "Python 3",
   "language": "python",
   "name": "python3"
  },
  "language_info": {
   "codemirror_mode": {
    "name": "ipython",
    "version": 3
   },
   "file_extension": ".py",
   "mimetype": "text/x-python",
   "name": "python",
   "nbconvert_exporter": "python",
   "pygments_lexer": "ipython3",
   "version": "3.12.6"
  }
 },
 "nbformat": 4,
 "nbformat_minor": 5
}
